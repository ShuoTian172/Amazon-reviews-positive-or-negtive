{
  "nbformat": 4,
  "nbformat_minor": 0,
  "metadata": {
    "colab": {
      "name": "Assignment_4.ipynb",
      "version": "0.3.2",
      "provenance": [],
      "collapsed_sections": []
    },
    "kernelspec": {
      "name": "python3",
      "display_name": "Python 3"
    },
    "accelerator": "GPU"
  },
  "cells": [
    {
      "cell_type": "code",
      "metadata": {
        "id": "ahgNaGXfnZff",
        "colab_type": "code",
        "outputId": "ec887772-924c-4a63-9239-129e2dd4faa4",
        "colab": {
          "base_uri": "https://localhost:8080/",
          "height": 34
        }
      },
      "source": [
        "import gensim\n",
        "import keras\n",
        "import numpy as np\n",
        "import pandas as pd\n",
        "\n",
        "from sklearn.model_selection import train_test_split\n",
        "\n",
        "from keras.models import Sequential\n",
        "from keras.layers import Input, Dense, LSTM, Embedding, Dropout, BatchNormalization, Activation, Bidirectional, Flatten\n",
        "from keras.preprocessing.text import text_to_word_sequence, Tokenizer\n",
        "from keras.preprocessing.sequence import pad_sequences\n",
        "from keras import regularizers\n",
        "\n",
        "import matplotlib as mpl\n",
        "%matplotlib inline\n",
        "from matplotlib import pyplot as plt\n",
        "from keras.utils import plot_model \n",
        "from IPython.display import Image\n",
        "import tensorflow as tf\n",
        "\n",
        "\n",
        "np.random.seed(1003)\n",
        "\n",
        "import os\n",
        "os.chdir(\"/content/drive/My Drive/Datasets\")"
      ],
      "execution_count": 0,
      "outputs": [
        {
          "output_type": "stream",
          "text": [
            "Using TensorFlow backend.\n"
          ],
          "name": "stderr"
        }
      ]
    },
    {
      "cell_type": "code",
      "metadata": {
        "id": "Gm1iZopc-IqP",
        "colab_type": "code",
        "outputId": "aa148e27-7b41-4ce4-dd47-cfb90f8887a0",
        "colab": {
          "base_uri": "https://localhost:8080/",
          "height": 34
        }
      },
      "source": [
        "device_name = tf.test.gpu_device_name()\n",
        "if device_name != '/device:GPU:0':\n",
        "  raise SystemError('GPU device not found')\n",
        "print('Found GPU at: {}'.format(device_name))"
      ],
      "execution_count": 0,
      "outputs": [
        {
          "output_type": "stream",
          "text": [
            "Found GPU at: /device:GPU:0\n"
          ],
          "name": "stdout"
        }
      ]
    },
    {
      "cell_type": "code",
      "metadata": {
        "id": "HAMbxWxiIJ4d",
        "colab_type": "code",
        "outputId": "94f86367-8306-489d-88a7-a84501c08937",
        "colab": {
          "base_uri": "https://localhost:8080/",
          "height": 122
        }
      },
      "source": [
        "# Run this cell to mount your Google Drive.\n",
        "from google.colab import drive\n",
        "drive.mount('/content/drive')"
      ],
      "execution_count": 0,
      "outputs": [
        {
          "output_type": "stream",
          "text": [
            "Go to this URL in a browser: https://accounts.google.com/o/oauth2/auth?client_id=947318989803-6bn6qk8qdgf4n4g3pfee6491hc0brc4i.apps.googleusercontent.com&redirect_uri=urn%3Aietf%3Awg%3Aoauth%3A2.0%3Aoob&scope=email%20https%3A%2F%2Fwww.googleapis.com%2Fauth%2Fdocs.test%20https%3A%2F%2Fwww.googleapis.com%2Fauth%2Fdrive%20https%3A%2F%2Fwww.googleapis.com%2Fauth%2Fdrive.photos.readonly%20https%3A%2F%2Fwww.googleapis.com%2Fauth%2Fpeopleapi.readonly&response_type=code\n",
            "\n",
            "Enter your authorization code:\n",
            "··········\n",
            "Mounted at /content/drive\n"
          ],
          "name": "stdout"
        }
      ]
    },
    {
      "cell_type": "code",
      "metadata": {
        "id": "bdxBT3EvpDLg",
        "colab_type": "code",
        "colab": {}
      },
      "source": [
        ""
      ],
      "execution_count": 0,
      "outputs": []
    },
    {
      "cell_type": "code",
      "metadata": {
        "id": "CSHfrWufnZfl",
        "colab_type": "code",
        "outputId": "51ef8bf4-0df8-486e-d282-83d124f1ab8d",
        "colab": {
          "base_uri": "https://localhost:8080/",
          "height": 34
        }
      },
      "source": [
        "gensim.__version__"
      ],
      "execution_count": 0,
      "outputs": [
        {
          "output_type": "execute_result",
          "data": {
            "text/plain": [
              "'3.6.0'"
            ]
          },
          "metadata": {
            "tags": []
          },
          "execution_count": 3
        }
      ]
    },
    {
      "cell_type": "code",
      "metadata": {
        "id": "T6LZisOInZfp",
        "colab_type": "code",
        "outputId": "39fe1edb-281f-4579-fc38-55ea965e3ba9",
        "colab": {
          "base_uri": "https://localhost:8080/",
          "height": 34
        }
      },
      "source": [
        "tf.__version__"
      ],
      "execution_count": 0,
      "outputs": [
        {
          "output_type": "execute_result",
          "data": {
            "text/plain": [
              "'1.14.0-rc1'"
            ]
          },
          "metadata": {
            "tags": []
          },
          "execution_count": 4
        }
      ]
    },
    {
      "cell_type": "code",
      "metadata": {
        "id": "FNlRMWEtnZfr",
        "colab_type": "code",
        "outputId": "84836225-162f-4f1a-cd54-3d26ce4b21b7",
        "colab": {
          "base_uri": "https://localhost:8080/",
          "height": 34
        }
      },
      "source": [
        "keras.__version__"
      ],
      "execution_count": 0,
      "outputs": [
        {
          "output_type": "execute_result",
          "data": {
            "text/plain": [
              "'2.2.4'"
            ]
          },
          "metadata": {
            "tags": []
          },
          "execution_count": 5
        }
      ]
    },
    {
      "cell_type": "markdown",
      "metadata": {
        "id": "XgsVCTG6qaXX",
        "colab_type": "text"
      },
      "source": [
        "**Specify Hyperparameters**"
      ]
    },
    {
      "cell_type": "code",
      "metadata": {
        "id": "j77-uHmrnZfx",
        "colab_type": "code",
        "colab": {}
      },
      "source": [
        "# These are some hyperparameters that can be tuned\n",
        "MAX_SENT_LEN = 23 # 90% of corpus\n",
        "MAX_VOCAB_SIZE = 20000\n",
        "EMBEDDING_DIM = 300\n",
        "BATCH_SIZE = 32\n",
        "N_EPOCHS = 10"
      ],
      "execution_count": 0,
      "outputs": []
    },
    {
      "cell_type": "code",
      "metadata": {
        "id": "MZhZspjkxvZw",
        "colab_type": "code",
        "outputId": "ef859390-fe12-4324-dd73-e0fdbf59a092",
        "colab": {
          "base_uri": "https://localhost:8080/",
          "height": 54
        }
      },
      "source": [
        "# Run this cell to mount your Google Drive.\n",
        "from google.colab import drive\n",
        "drive.mount('/content/drive')\n",
        "\n",
        "# import os\n",
        "# os.chdir(\"/content/drive/My Drive/Datasets\")\n",
        "# ! git clone https://github.com/tscpu172/Amazon-reviews-positive-or-negtive.git"
      ],
      "execution_count": 0,
      "outputs": [
        {
          "output_type": "stream",
          "text": [
            "Drive already mounted at /content/drive; to attempt to forcibly remount, call drive.mount(\"/content/drive\", force_remount=True).\n"
          ],
          "name": "stdout"
        }
      ]
    },
    {
      "cell_type": "markdown",
      "metadata": {
        "id": "Znnf4_02rVYX",
        "colab_type": "text"
      },
      "source": [
        "**Load Data**"
      ]
    },
    {
      "cell_type": "code",
      "metadata": {
        "id": "q_VdAUmAnZf2",
        "colab_type": "code",
        "colab": {}
      },
      "source": [
        "# Read the text files of positive and negative sentences\n",
        "with open('/content/drive/My Drive/Datasets/Amazon-reviews-positive-or-negtive/DataSet/Neg/neg.txt', 'r', errors='ignore') as f:\n",
        "    neg = f.readlines()\n",
        "    \n",
        "with open('/content/drive/My Drive/Datasets/Amazon-reviews-positive-or-negtive/DataSet/Pos/pos.txt', 'r', errors='ignore') as f:\n",
        "    pos = f.readlines()"
      ],
      "execution_count": 0,
      "outputs": []
    },
    {
      "cell_type": "code",
      "metadata": {
        "id": "LOg60nlbnZf4",
        "colab_type": "code",
        "outputId": "8eb85790-0013-4e36-ca3a-52c01755f616",
        "colab": {
          "base_uri": "https://localhost:8080/",
          "height": 51
        }
      },
      "source": [
        "print('Number of negative sentences:', len(neg))\n",
        "print('Number of positive sentences:', len(pos))"
      ],
      "execution_count": 0,
      "outputs": [
        {
          "output_type": "stream",
          "text": [
            "Number of negative sentences: 400000\n",
            "Number of positive sentences: 400000\n"
          ],
          "name": "stdout"
        }
      ]
    },
    {
      "cell_type": "code",
      "metadata": {
        "id": "hs4ePc76nZf7",
        "colab_type": "code",
        "colab": {}
      },
      "source": [
        "# Create a dataframe to store the sentence and polarity as 2 columns\n",
        "df = pd.DataFrame(columns=['sentence', 'polarity'])\n",
        "df['sentence'] = neg + pos\n",
        "df['polarity'] = [0]*len(neg) + [1]*len(pos)\n",
        "df = df.sample(frac=1, random_state=10) # Shuffle the rows\n",
        "df.reset_index(inplace=True, drop=True)"
      ],
      "execution_count": 0,
      "outputs": []
    },
    {
      "cell_type": "code",
      "metadata": {
        "id": "bd43fsIOnZf9",
        "colab_type": "code",
        "outputId": "d7ae298b-2bec-4bcb-cc5a-00826521aabc",
        "colab": {
          "base_uri": "https://localhost:8080/",
          "height": 359
        }
      },
      "source": [
        "df.head(10)"
      ],
      "execution_count": 0,
      "outputs": [
        {
          "output_type": "execute_result",
          "data": {
            "text/html": [
              "<div>\n",
              "<style scoped>\n",
              "    .dataframe tbody tr th:only-of-type {\n",
              "        vertical-align: middle;\n",
              "    }\n",
              "\n",
              "    .dataframe tbody tr th {\n",
              "        vertical-align: top;\n",
              "    }\n",
              "\n",
              "    .dataframe thead th {\n",
              "        text-align: right;\n",
              "    }\n",
              "</style>\n",
              "<table border=\"1\" class=\"dataframe\">\n",
              "  <thead>\n",
              "    <tr style=\"text-align: right;\">\n",
              "      <th></th>\n",
              "      <th>sentence</th>\n",
              "      <th>polarity</th>\n",
              "    </tr>\n",
              "  </thead>\n",
              "  <tbody>\n",
              "    <tr>\n",
              "      <th>0</th>\n",
              "      <td>That means the actual capacity is more like 20...</td>\n",
              "      <td>0</td>\n",
              "    </tr>\n",
              "    <tr>\n",
              "      <th>1</th>\n",
              "      <td>My only problem is that it is MADE IN CHINA.\\n</td>\n",
              "      <td>0</td>\n",
              "    </tr>\n",
              "    <tr>\n",
              "      <th>2</th>\n",
              "      <td>The box that the item arrived in was kind of m...</td>\n",
              "      <td>0</td>\n",
              "    </tr>\n",
              "    <tr>\n",
              "      <th>3</th>\n",
              "      <td>It needed you to press fairly hard to register...</td>\n",
              "      <td>1</td>\n",
              "    </tr>\n",
              "    <tr>\n",
              "      <th>4</th>\n",
              "      <td>Now my makeup stays on longer and oil no longe...</td>\n",
              "      <td>0</td>\n",
              "    </tr>\n",
              "    <tr>\n",
              "      <th>5</th>\n",
              "      <td>This is the worst canned coffee I've ever had.\\n</td>\n",
              "      <td>0</td>\n",
              "    </tr>\n",
              "    <tr>\n",
              "      <th>6</th>\n",
              "      <td>The secondary can be either incredibly telepat...</td>\n",
              "      <td>0</td>\n",
              "    </tr>\n",
              "    <tr>\n",
              "      <th>7</th>\n",
              "      <td>I use these for cooking, eating, and especiall...</td>\n",
              "      <td>1</td>\n",
              "    </tr>\n",
              "    <tr>\n",
              "      <th>8</th>\n",
              "      <td>There's a gap between it and the ear when it's...</td>\n",
              "      <td>1</td>\n",
              "    </tr>\n",
              "    <tr>\n",
              "      <th>9</th>\n",
              "      <td>I guess they made their money and don't care.\\n</td>\n",
              "      <td>0</td>\n",
              "    </tr>\n",
              "  </tbody>\n",
              "</table>\n",
              "</div>"
            ],
            "text/plain": [
              "                                            sentence  polarity\n",
              "0  That means the actual capacity is more like 20...         0\n",
              "1     My only problem is that it is MADE IN CHINA.\\n         0\n",
              "2  The box that the item arrived in was kind of m...         0\n",
              "3  It needed you to press fairly hard to register...         1\n",
              "4  Now my makeup stays on longer and oil no longe...         0\n",
              "5   This is the worst canned coffee I've ever had.\\n         0\n",
              "6  The secondary can be either incredibly telepat...         0\n",
              "7  I use these for cooking, eating, and especiall...         1\n",
              "8  There's a gap between it and the ear when it's...         1\n",
              "9    I guess they made their money and don't care.\\n         0"
            ]
          },
          "metadata": {
            "tags": []
          },
          "execution_count": 8
        }
      ]
    },
    {
      "cell_type": "code",
      "metadata": {
        "id": "zc_VDtgInZf_",
        "colab_type": "code",
        "outputId": "f6b5dbaa-ad82-4297-d14b-2bf403a397e9",
        "colab": {
          "base_uri": "https://localhost:8080/",
          "height": 34
        }
      },
      "source": [
        "# Pre-processing involves removal of puctuations and converting text to lower case\n",
        "word_seq = [text_to_word_sequence(sent) for sent in df['sentence']]\n",
        "print('90th Percentile Sentence Length:', np.percentile([len(seq) for seq in word_seq], 90))"
      ],
      "execution_count": 0,
      "outputs": [
        {
          "output_type": "stream",
          "text": [
            "90th Percentile Sentence Length: 23.0\n"
          ],
          "name": "stdout"
        }
      ]
    },
    {
      "cell_type": "code",
      "metadata": {
        "id": "OG4g8_NSnZgE",
        "colab_type": "code",
        "outputId": "6d0d22cf-c529-45f8-a0ce-0735da16dd40",
        "colab": {
          "base_uri": "https://localhost:8080/",
          "height": 34
        }
      },
      "source": [
        "tokenizer = Tokenizer(num_words=MAX_VOCAB_SIZE)\n",
        "tokenizer.fit_on_texts([' '.join(seq[:MAX_SENT_LEN]) for seq in word_seq])\n",
        "\n",
        "print(\"Number of words in vocabulary:\", len(tokenizer.word_index))\n",
        "\n",
        "# tokenizer.word_index"
      ],
      "execution_count": 0,
      "outputs": [
        {
          "output_type": "stream",
          "text": [
            "Number of words in vocabulary: 93048\n"
          ],
          "name": "stdout"
        }
      ]
    },
    {
      "cell_type": "code",
      "metadata": {
        "id": "MUjc0oOrnZgM",
        "colab_type": "code",
        "colab": {}
      },
      "source": [
        "# Convert the sequence of words to sequnce of indices\n",
        "X = tokenizer.texts_to_sequences([' '.join(seq[:MAX_SENT_LEN]) for seq in word_seq])\n",
        "X = pad_sequences(X, maxlen=MAX_SENT_LEN, padding='post', truncating='post')\n",
        "\n",
        "y = keras.utils.to_categorical(df['polarity'])"
      ],
      "execution_count": 0,
      "outputs": []
    },
    {
      "cell_type": "code",
      "metadata": {
        "id": "yFWgBhS961Sn",
        "colab_type": "code",
        "outputId": "75eca95c-c006-4d02-ccc4-2ed155243d6f",
        "colab": {
          "base_uri": "https://localhost:8080/",
          "height": 238
        }
      },
      "source": [
        "y[:13]"
      ],
      "execution_count": 0,
      "outputs": [
        {
          "output_type": "execute_result",
          "data": {
            "text/plain": [
              "array([[1., 0.],\n",
              "       [1., 0.],\n",
              "       [1., 0.],\n",
              "       [0., 1.],\n",
              "       [1., 0.],\n",
              "       [1., 0.],\n",
              "       [1., 0.],\n",
              "       [0., 1.],\n",
              "       [0., 1.],\n",
              "       [1., 0.],\n",
              "       [0., 1.],\n",
              "       [0., 1.],\n",
              "       [0., 1.]], dtype=float32)"
            ]
          },
          "metadata": {
            "tags": []
          },
          "execution_count": 24
        }
      ]
    },
    {
      "cell_type": "code",
      "metadata": {
        "id": "r7sanAfOnZgP",
        "colab_type": "code",
        "outputId": "4f729030-7689-4c96-c929-34e28dd2ce32",
        "colab": {
          "base_uri": "https://localhost:8080/",
          "height": 170
        }
      },
      "source": [
        "X[:3]"
      ],
      "execution_count": 0,
      "outputs": [
        {
          "output_type": "execute_result",
          "data": {
            "text/plain": [
              "array([[  13,  738,    1, 1048, 1345,    8,   51,   27, 4320, 3452,    0,\n",
              "           0,    0,    0,    0,    0,    0,    0,    0,    0,    0,    0,\n",
              "           0],\n",
              "       [  11,   61,  175,    8,   13,    4,    8,   93,   12,  979,    0,\n",
              "           0,    0,    0,    0,    0,    0,    0,    0,    0,    0,    0,\n",
              "           0],\n",
              "       [   1,  249,   13,    1,  218,  480,   12,   20,  414,    9, 9061,\n",
              "        5712,   13,    4,   20,  582,    0,    0,    0,    0,    0,    0,\n",
              "           0]], dtype=int32)"
            ]
          },
          "metadata": {
            "tags": []
          },
          "execution_count": 17
        }
      ]
    },
    {
      "cell_type": "code",
      "metadata": {
        "id": "r7-m-yR-nZgS",
        "colab_type": "code",
        "colab": {}
      },
      "source": [
        "# Split the dataset to train, validate, and test subsets\n",
        "X_train, X_test, y_train, y_test = train_test_split(X, y, test_size=0.1, random_state=1)\n",
        "X_train, X_val, y_train, y_val = train_test_split(X_train, y_train, test_size=0.1, random_state=1)"
      ],
      "execution_count": 0,
      "outputs": []
    },
    {
      "cell_type": "code",
      "metadata": {
        "id": "1Zbi6l4OnZgU",
        "colab_type": "code",
        "outputId": "5473fe62-02b3-4a8d-93c3-dc5ec2291307",
        "colab": {
          "base_uri": "https://localhost:8080/",
          "height": 34
        }
      },
      "source": [
        "X_train.shape"
      ],
      "execution_count": 0,
      "outputs": [
        {
          "output_type": "execute_result",
          "data": {
            "text/plain": [
              "(648000, 23)"
            ]
          },
          "metadata": {
            "tags": []
          },
          "execution_count": 14
        }
      ]
    },
    {
      "cell_type": "code",
      "metadata": {
        "id": "_nsfBTy1tpmU",
        "colab_type": "code",
        "outputId": "77db88f2-7d7d-4289-dff0-4a6d3172f979",
        "colab": {
          "base_uri": "https://localhost:8080/",
          "height": 34
        }
      },
      "source": [
        "y_test.shape"
      ],
      "execution_count": 0,
      "outputs": [
        {
          "output_type": "execute_result",
          "data": {
            "text/plain": [
              "(80000,)"
            ]
          },
          "metadata": {
            "tags": []
          },
          "execution_count": 15
        }
      ]
    },
    {
      "cell_type": "code",
      "metadata": {
        "id": "wsHKzf1rnZgZ",
        "colab_type": "code",
        "outputId": "5111c4b4-bae3-490f-8c6a-8cae7aad29d9",
        "colab": {
          "base_uri": "https://localhost:8080/",
          "height": 105
        }
      },
      "source": [
        "%%time\n",
        "# Load the word2vec embeddings \n",
        "import pickle\n",
        "embeddings = gensim.models.Word2Vec.load('/content/drive/My Drive/Colab Notebooks/w2v_amazon_data.pkl')"
      ],
      "execution_count": 0,
      "outputs": [
        {
          "output_type": "stream",
          "text": [
            "/usr/local/lib/python3.6/dist-packages/smart_open/smart_open_lib.py:398: UserWarning: This function is deprecated, use smart_open.open instead. See the migration notes for details: https://github.com/RaRe-Technologies/smart_open/blob/master/README.rst#migrating-to-the-new-open-function\n",
            "  'See the migration notes for details: %s' % _MIGRATION_NOTES_URL\n"
          ],
          "name": "stderr"
        },
        {
          "output_type": "stream",
          "text": [
            "CPU times: user 309 ms, sys: 59 ms, total: 368 ms\n",
            "Wall time: 2.38 s\n"
          ],
          "name": "stdout"
        }
      ]
    },
    {
      "cell_type": "code",
      "metadata": {
        "id": "aVfRXe3cnZgd",
        "colab_type": "code",
        "outputId": "b26d01d1-75d9-4436-9ae9-ca0afc48451e",
        "colab": {
          "base_uri": "https://localhost:8080/",
          "height": 51
        }
      },
      "source": [
        "print('Number of words in this pre-trained w2v model:', len(embeddings.wv.vocab))\n",
        "print('Dimension of w2v:', embeddings.vector_size)"
      ],
      "execution_count": 0,
      "outputs": [
        {
          "output_type": "stream",
          "text": [
            "Number of words in this pre-trained w2v model: 15529\n",
            "Dimension of w2v: 300\n"
          ],
          "name": "stdout"
        }
      ]
    },
    {
      "cell_type": "code",
      "metadata": {
        "id": "hOsxJUfdnZgg",
        "colab_type": "code",
        "outputId": "99cce28f-2d7e-4b2b-a64c-49c68ebeb615",
        "colab": {
          "base_uri": "https://localhost:8080/",
          "height": 71
        }
      },
      "source": [
        "# Create an embedding matrix containing only the word's in our vocabulary\n",
        "# If the word does not have a pre-trained embedding, then randomly initialize the embedding\n",
        "embeddings_matrix = np.random.uniform(-0.05, 0.05, size=(len(tokenizer.word_index)+1, EMBEDDING_DIM)) # +1 is because the matrix indices start with 0\n",
        "\n",
        "for word, i in tokenizer.word_index.items(): # i=0 is the embedding for the zero padding\n",
        "    try:\n",
        "        embeddings_vector = embeddings[word]\n",
        "    except KeyError:\n",
        "        embeddings_vector = None\n",
        "    if embeddings_vector is not None:\n",
        "        embeddings_matrix[i] = embeddings_vector\n",
        "        \n",
        "del embeddings"
      ],
      "execution_count": 0,
      "outputs": [
        {
          "output_type": "stream",
          "text": [
            "/usr/local/lib/python3.6/dist-packages/ipykernel_launcher.py:5: DeprecationWarning: Call to deprecated `__getitem__` (Method will be removed in 4.0.0, use self.wv.__getitem__() instead).\n",
            "  \"\"\"\n"
          ],
          "name": "stderr"
        }
      ]
    },
    {
      "cell_type": "markdown",
      "metadata": {
        "id": "cVzG0hfbqO7s",
        "colab_type": "text"
      },
      "source": [
        "**Keras Sequential API**"
      ]
    },
    {
      "cell_type": "code",
      "metadata": {
        "id": "4IjSd2lenZgm",
        "colab_type": "code",
        "colab": {}
      },
      "source": [
        "# Build a sequential model by stacking neural net units \n",
        "model = Sequential()\n",
        "model.add(Embedding(input_dim=len(tokenizer.word_index)+1, input_length=MAX_SENT_LEN,\n",
        "                          output_dim=EMBEDDING_DIM, \n",
        "                          weights = [embeddings_matrix], trainable=False, name='word_embedding_layer'))\n",
        "\n",
        "\n",
        "\n",
        "# model.add(keras.layers.GlobalAveragePooling1D())\n",
        "\n",
        "model.add(Flatten())\n",
        "\n",
        "model.add(Dense(128, activation='sigmoid', name='hidden_layer'))\n",
        "\n",
        "# model.add(Dense(128, activation='tanh', kernel_regularizer=regularizers.l2(0.001), name='hidden_layer'))\n",
        "\n",
        "model.add(Dropout(0.3, noise_shape=None, seed=None))\n",
        "\n",
        "model.add(Dense(2, activation='softmax', name='output_layer'))"
      ],
      "execution_count": 0,
      "outputs": []
    },
    {
      "cell_type": "code",
      "metadata": {
        "id": "jPdIYxrlnZgp",
        "colab_type": "code",
        "outputId": "e488025d-ac2e-43f9-e173-442f47526d6d",
        "colab": {
          "base_uri": "https://localhost:8080/",
          "height": 272
        }
      },
      "source": [
        "model.summary()"
      ],
      "execution_count": 0,
      "outputs": [
        {
          "output_type": "stream",
          "text": [
            "_________________________________________________________________\n",
            "Layer (type)                 Output Shape              Param #   \n",
            "=================================================================\n",
            "word_embedding_layer (Embedd (None, 23, 300)           27914700  \n",
            "_________________________________________________________________\n",
            "flatten_2 (Flatten)          (None, 6900)              0         \n",
            "_________________________________________________________________\n",
            "hidden_layer (Dense)         (None, 128)               883328    \n",
            "_________________________________________________________________\n",
            "output_layer (Dense)         (None, 2)                 258       \n",
            "=================================================================\n",
            "Total params: 28,798,286\n",
            "Trainable params: 883,586\n",
            "Non-trainable params: 27,914,700\n",
            "_________________________________________________________________\n"
          ],
          "name": "stdout"
        }
      ]
    },
    {
      "cell_type": "code",
      "metadata": {
        "id": "0nsWmi4fnZgr",
        "colab_type": "code",
        "colab": {}
      },
      "source": [
        "adam=keras.optimizers.Adam(lr=0.001, beta_1=0.9, beta_2=0.999, epsilon=None, decay=0.0, amsgrad=False)\n",
        "model.compile(loss='categorical_crossentropy',\n",
        "              optimizer='adam',\n",
        "              metrics=['accuracy'])"
      ],
      "execution_count": 0,
      "outputs": []
    },
    {
      "cell_type": "code",
      "metadata": {
        "id": "0wiIMiGEnZgt",
        "colab_type": "code",
        "outputId": "cf9209a5-3601-449a-dd28-7e754820cfe8",
        "colab": {
          "base_uri": "https://localhost:8080/",
          "height": 122
        }
      },
      "source": [
        "history = model.fit(X_train, y_train,\n",
        "          batch_size=32,\n",
        "          epochs=2,\n",
        "          validation_data=(X_val, y_val))"
      ],
      "execution_count": 199,
      "outputs": [
        {
          "output_type": "stream",
          "text": [
            "Train on 648000 samples, validate on 72000 samples\n",
            "Epoch 1/2\n",
            "648000/648000 [==============================] - 82s 126us/step - loss: 0.4965 - acc: 0.7559 - val_loss: 0.4741 - val_acc: 0.7718\n",
            "Epoch 2/2\n",
            "648000/648000 [==============================] - 79s 122us/step - loss: 0.4618 - acc: 0.7793 - val_loss: 0.4631 - val_acc: 0.7772\n"
          ],
          "name": "stdout"
        }
      ]
    },
    {
      "cell_type": "code",
      "metadata": {
        "id": "atuOWnhkQXzD",
        "colab_type": "code",
        "outputId": "e2e4ec33-bcff-482f-ab32-288d928dc956",
        "colab": {
          "base_uri": "https://localhost:8080/",
          "height": 287
        }
      },
      "source": [
        "# Get training and test loss histories\n",
        "training_loss = history.history['loss']\n",
        "val_loss = history.history['val_loss']\n",
        "\n",
        "# Create count of the number of epochs\n",
        "epoch_count = range(1, len(training_loss) + 1)\n",
        "\n",
        "# Visualize loss history\n",
        "plt.figure(figsize=(10,3))\n",
        "plt.subplot(121)\n",
        "plt.plot(epoch_count, training_loss, 'r--')\n",
        "plt.plot(epoch_count, val_loss, 'b-')\n",
        "plt.legend(['Training Loss', 'Validate Loss'])\n",
        "plt.xlabel('Epoch')\n",
        "plt.ylabel('Loss')\n",
        "\n",
        "\n",
        "# Get training and test acc histories\n",
        "training_acc = history.history['acc']\n",
        "val_acc = history.history['val_acc']\n",
        "\n",
        "# Visualize loss history\n",
        "plt.subplot(122)\n",
        "plt.plot(epoch_count, training_acc, 'r--')\n",
        "plt.plot(epoch_count, val_acc, 'b-')\n",
        "plt.legend(['Training Acc', 'Validate Acc'])\n",
        "plt.xlabel('Epoch')\n",
        "plt.ylabel('Acc')\n",
        "\n",
        "plt.subplots_adjust(top=0.92, bottom=0.08, left=0.10, right=0.95, hspace=0.25,\n",
        "                    wspace=0.35)\n",
        "\n",
        "my_suptitle = plt.suptitle('Sigmoid Activition', size=16, y=1.12)\n",
        "\n",
        "plt.savefig(\"Sigmoid activition.tif\", dpi=150, bbox_inches='tight',bbox_extra_artists=[my_suptitle])\n",
        "\n",
        "plt.show();\n",
        "\n"
      ],
      "execution_count": 0,
      "outputs": [
        {
          "output_type": "display_data",
          "data": {
            "image/png": "[encoded data removed]",
            "text/plain": [
              "<Figure size 720x216 with 2 Axes>"
            ]
          },
          "metadata": {
            "tags": []
          }
        }
      ]
    },
    {
      "cell_type": "code",
      "metadata": {
        "id": "QKKoO45vkyjN",
        "colab_type": "code",
        "outputId": "997d1fb2-26d2-45cd-b9a4-8a869e19001d",
        "colab": {
          "base_uri": "https://localhost:8080/",
          "height": 51
        }
      },
      "source": [
        "print( os.getcwd() )\n",
        "print( os.listdir() )"
      ],
      "execution_count": 0,
      "outputs": [
        {
          "output_type": "stream",
          "text": [
            "/content/drive/My Drive/Datasets\n",
            "['Amazon-reviews-positive-or-negtive', 'sigmoid.tif']\n"
          ],
          "name": "stdout"
        }
      ]
    },
    {
      "cell_type": "code",
      "metadata": {
        "id": "95Yu5dfukyg2",
        "colab_type": "code",
        "colab": {}
      },
      "source": [
        "from google.colab import files\n",
        "files.download( \"relu activition L2 norm Regularization.tif\" )  "
      ],
      "execution_count": 0,
      "outputs": []
    },
    {
      "cell_type": "code",
      "metadata": {
        "id": "eB69256Vkyeu",
        "colab_type": "code",
        "colab": {}
      },
      "source": [
        "y_pred = model.predict_classes(X_test, batch_size=32)"
      ],
      "execution_count": 0,
      "outputs": []
    },
    {
      "cell_type": "code",
      "metadata": {
        "id": "jSJ8rZ-tzgwG",
        "colab_type": "code",
        "colab": {}
      },
      "source": [
        ""
      ],
      "execution_count": 0,
      "outputs": []
    },
    {
      "cell_type": "code",
      "metadata": {
        "id": "iEho_pBL0k0h",
        "colab_type": "code",
        "outputId": "32a6293a-1078-47a6-aadb-620acbf732d0",
        "colab": {
          "base_uri": "https://localhost:8080/",
          "height": 136
        }
      },
      "source": [
        ""
      ],
      "execution_count": 0,
      "outputs": [
        {
          "output_type": "execute_result",
          "data": {
            "text/plain": [
              "array([[0., 1.],\n",
              "       [0., 1.],\n",
              "       [1., 0.],\n",
              "       ...,\n",
              "       [0., 1.],\n",
              "       [1., 0.],\n",
              "       [1., 0.]], dtype=float32)"
            ]
          },
          "metadata": {
            "tags": []
          },
          "execution_count": 173
        }
      ]
    },
    {
      "cell_type": "code",
      "metadata": {
        "id": "TtLFOMHdkycn",
        "colab_type": "code",
        "outputId": "d0052458-f142-41d6-d393-6e5aa21b74ce",
        "colab": {
          "base_uri": "https://localhost:8080/",
          "height": 34
        }
      },
      "source": [
        "100*(1-(y_test != y_pred).sum()/X_test.shape[0])\n"
      ],
      "execution_count": 0,
      "outputs": [
        {
          "output_type": "execute_result",
          "data": {
            "text/plain": [
              "55.620000000000005"
            ]
          },
          "metadata": {
            "tags": []
          },
          "execution_count": 186
        }
      ]
    },
    {
      "cell_type": "code",
      "metadata": {
        "id": "j3QZad7-kyZE",
        "colab_type": "code",
        "colab": {
          "base_uri": "https://localhost:8080/",
          "height": 51
        },
        "outputId": "921d1156-2dcb-43e7-934d-068d5a434c26"
      },
      "source": [
        "model.evaluate(X_test, y_test)[1]\n"
      ],
      "execution_count": 200,
      "outputs": [
        {
          "output_type": "stream",
          "text": [
            "80000/80000 [==============================] - 4s 50us/step\n"
          ],
          "name": "stdout"
        },
        {
          "output_type": "execute_result",
          "data": {
            "text/plain": [
              "0.7764375"
            ]
          },
          "metadata": {
            "tags": []
          },
          "execution_count": 200
        }
      ]
    }
  ]
}
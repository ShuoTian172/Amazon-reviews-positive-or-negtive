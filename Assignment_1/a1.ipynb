{
 "cells": [
  {
   "cell_type": "code",
   "execution_count": 20,
   "metadata": {
    "scrolled": false
   },
   "outputs": [
    {
     "name": "stderr",
     "output_type": "stream",
     "text": [
      "/Users/shuotian/anaconda3/lib/python3.6/site-packages/sklearn/model_selection/_split.py:2179: FutureWarning: From version 0.21, test_size will always complement train_size unless both are specified.\n",
      "  FutureWarning)\n"
     ]
    }
   ],
   "source": [
    "import pandas as pd\n",
    "import re\n",
    "import codecs\n",
    "import sys\n",
    "import nltk\n",
    "import numpy as np\n",
    "from sklearn.model_selection import train_test_split\n",
    "from nltk.corpus import stopwords\n",
    "import string\n",
    "\n",
    "# Function to remove Stopwords\n",
    "def remove_stopwords(line):\n",
    "    \n",
    "    stop_words = set(stopwords.words('english'))\n",
    "    line = [w for w in line if not w in stop_words]\n",
    "    return line\n",
    "\n",
    "#Function to remove Punctuation and normalize characters to lowercase\n",
    "def remove_punc_lower(line):\n",
    "    line=\"\".join([char for char in line if char not in string.punctuation])\n",
    "    line=line.lower()\n",
    "    return line\n",
    "\n",
    "# Function to Tokenize words\n",
    "def tokenize(line):\n",
    "    tokens = re.split('\\W+', line)\n",
    "    return tokens\n",
    "\n",
    "\n",
    "if __name__ == \"__main__\":\n",
    "    input_path = 'pos.txt'\n",
    "    f=open(input_path)\n",
    "    pos=f.read().split('\\n')\n",
    "    pos_stop=[]\n",
    "    pos_no_stop=[]\n",
    "    for i in range (len(pos)):\n",
    "        p=tokenize(remove_punc_lower(pos[i]))\n",
    "        pos_no_stop.append(p)\n",
    "        p=remove_stopwords(p)\n",
    "        pos_stop.append(p)\n",
    "    train_list,val_list=train_test_split(pos_stop,train_size=0.8,random_state=0)\n",
    "    val_list,test_list=train_test_split(val_list,test_size=0.5,random_state=0)\n",
    "    np.savetxt(\"train.csv\", train_list, delimiter=\",\",fmt='%s')\n",
    "    np.savetxt(\"val.csv\", val_list, delimiter=\",\", fmt='%s')\n",
    "    np.savetxt(\"test.csv\", test_list, delimiter=\",\", fmt='%s')\n",
    "    train_list_no_stopword,val_list_no_stopword=train_test_split(pos_no_stop,train_size=0.8,random_state=0)\n",
    "    val_list_no_stopword,test_list_no_stopword=train_test_split(val_list_no_stopword,test_size=0.5,random_state=0)\n",
    "    np.savetxt(\"train_no_stopword.csv\", train_list_no_stopword,delimiter=\",\", fmt='%s')\n",
    "    np.savetxt(\"val_no_stopword.csv\", val_list_no_stopword,delimiter=\",\", fmt='%s')\n",
    "    np.savetxt(\"test_no_stopword.csv\", test_list_no_stopword,delimiter=\",\", fmt='%s')"
   ]
  },
  {
   "cell_type": "code",
   "execution_count": null,
   "metadata": {},
   "outputs": [],
   "source": []
  }
 ],
 "metadata": {
  "kernelspec": {
   "display_name": "Python 3",
   "language": "python",
   "name": "python3"
  },
  "language_info": {
   "codemirror_mode": {
    "name": "ipython",
    "version": 3
   },
   "file_extension": ".py",
   "mimetype": "text/x-python",
   "name": "python",
   "nbconvert_exporter": "python",
   "pygments_lexer": "ipython3",
   "version": "3.6.5"
  }
 },
 "nbformat": 4,
 "nbformat_minor": 2
}

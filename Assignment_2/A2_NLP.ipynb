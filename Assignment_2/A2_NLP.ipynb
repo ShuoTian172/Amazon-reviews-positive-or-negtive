{
 "cells": [
  {
   "cell_type": "code",
   "execution_count": null,
   "metadata": {
    "_cell_guid": "b1076dfc-b9ad-4769-8c92-a6c4dae69d19",
    "_uuid": "8f2839f25d086af736a60e9eeb907d3b93b6e0e5"
   },
   "outputs": [],
   "source": [
    "# This Python 3 environment comes with many helpful analytics libraries installed\n",
    "# It is defined by the kaggle/python docker image: https://github.com/kaggle/docker-python\n",
    "# For example, here's several helpful packages to load in \n",
    "\n",
    "import numpy as np # linear algebra\n",
    "import pandas as pd # data processing, CSV file I/O (e.g. pd.read_csv)\n",
    "\n",
    "# Input data files are available in the \"../input/\" directory.\n",
    "# For example, running this (by clicking run or pressing Shift+Enter) will list the files in the input directory\n",
    "\n",
    "import os\n",
    "print(os.listdir(\"../input\"))\n",
    "\n",
    "# Any results you write to the current directory are saved as output."
   ]
  },
  {
   "cell_type": "code",
   "execution_count": null,
   "metadata": {
    "_cell_guid": "79c7e3d0-c299-4dcb-8224-4455121ee9b0",
    "_uuid": "d629ff2d2480ee46fbb7e2d37f6b5fab8052498a"
   },
   "outputs": [],
   "source": [
    "import pandas as pd\n",
    "from sklearn.utils import shuffle\n",
    "from sklearn.feature_extraction.text import CountVectorizer\n",
    "from sklearn.model_selection import train_test_split\n",
    "from sklearn.naive_bayes import MultinomialNB\n",
    "from sklearn import metrics\n",
    "import seaborn as sns\n",
    "import matplotlib.pyplot as plt\n",
    "%matplotlib inline\n",
    "\n",
    "\n"
   ]
  },
  {
   "cell_type": "code",
   "execution_count": null,
   "metadata": {},
   "outputs": [],
   "source": [
    "# open without stopword cleaned datasets\n",
    "pos_train_no_stopword=open(\"../input/positive/train_no_stopword.csv\")\n",
    "pos_val_no_stopword=open(\"../input/positive/val_no_stopword.csv\")\n",
    "pos_test_no_stopword=open(\"../input/positive/test_no_stopword.csv\")\n",
    "\n",
    "neg_train_no_stopword=open(\"../input/negative/train_no_stopword.csv\")\n",
    "neg_val_no_stopword=open(\"../input/negative/val_no_stopword.csv\")\n",
    "neg_test_no_stopword=open(\"../input/negative/test_no_stopword.csv\")\n",
    "\n",
    "# Read without stopword cleaned datasets by line\n",
    "pos_nostop_train=pos_train_no_stopword.read().split('\\n')\n",
    "pos_nostop_val=pos_val_no_stopword.read().split('\\n')\n",
    "pos_nostop_test=pos_test_no_stopword.read().split('\\n')\n",
    "neg_nostop_train=neg_train_no_stopword.read().split('\\n')\n",
    "neg_nostop_val=neg_val_no_stopword.read().split('\\n')\n",
    "neg_nostop_test=neg_test_no_stopword.read().split('\\n')\n",
    "# Convert without stopword cleaned datasets to DataFrame\n",
    "pos_nostop_train= pd.DataFrame(pos_nostop_train, columns=[\"Clean_text\"])\n",
    "pos_nostop_val= pd.DataFrame(pos_nostop_val, columns=[\"Clean_text\"])\n",
    "pos_nostop_test= pd.DataFrame(pos_nostop_test, columns=[\"Clean_text\"])\n",
    "neg_nostop_train= pd.DataFrame(neg_nostop_train, columns=[\"Clean_text\"])\n",
    "neg_nostop_val= pd.DataFrame(neg_nostop_val, columns=[\"Clean_text\"])\n",
    "neg_nostop_test= pd.DataFrame(neg_nostop_test, columns=[\"Clean_text\"])\n",
    "# Add a new column 'Sentiment'\n",
    "pos_nostop_train[\"Sentiment\"]=1\n",
    "pos_nostop_val[\"Sentiment\"]=1\n",
    "pos_nostop_test[\"Sentiment\"]=1\n",
    "neg_nostop_train[\"Sentiment\"]=0\n",
    "neg_nostop_val[\"Sentiment\"]=0\n",
    "neg_nostop_test[\"Sentiment\"]=0\n",
    "# Combine all the datasets above \n",
    "nostop= shuffle(pd.concat([pos_nostop_train, neg_nostop_train,pos_nostop_val,neg_nostop_val,pos_nostop_test, neg_nostop_test]))\n"
   ]
  },
  {
   "cell_type": "code",
   "execution_count": null,
   "metadata": {},
   "outputs": [],
   "source": [
    "# open with stopword cleaned datasets\n",
    "pos_train_stopword=open(\"../input/positive/train.csv\")\n",
    "pos_val_stopword=open(\"../input/positive/val.csv\")\n",
    "pos_test_stopword=open(\"../input/positive/test.csv\")\n",
    "neg_train_stopword=open(\"../input/negative/train.csv\")\n",
    "neg_val_stopword=open(\"../input/negative/val.csv\")\n",
    "neg_test_stopword=open(\"../input/negative/test.csv\")\n",
    "# Read with stopword cleaned datasets by line\n",
    "pos_train=pos_train_stopword.read().split('\\n')\n",
    "pos_val=pos_val_stopword.read().split('\\n')\n",
    "pos_test=pos_test_stopword.read().split('\\n')\n",
    "neg_train=neg_train_stopword.read().split('\\n')\n",
    "neg_val=neg_val_stopword.read().split('\\n')\n",
    "neg_test=neg_test_stopword.read().split('\\n')\n",
    "# Convert with stopword cleaned datasets to DataFrame\n",
    "pos_train= pd.DataFrame(pos_train, columns=[\"Clean_text\"])\n",
    "pos_val= pd.DataFrame(pos_val, columns=[\"Clean_text\"])\n",
    "pos_test= pd.DataFrame(pos_test, columns=[\"Clean_text\"])\n",
    "neg_train= pd.DataFrame(neg_train, columns=[\"Clean_text\"])\n",
    "neg_val= pd.DataFrame(neg_val, columns=[\"Clean_text\"])\n",
    "neg_test= pd.DataFrame(neg_test, columns=[\"Clean_text\"])\n",
    "# Add a new column 'Sentiment'\n",
    "pos_train[\"Sentiment\"]=1\n",
    "pos_val[\"Sentiment\"]=1\n",
    "pos_test[\"Sentiment\"]=1\n",
    "neg_train[\"Sentiment\"]=0\n",
    "neg_val[\"Sentiment\"]=0\n",
    "neg_test[\"Sentiment\"]=0\n",
    "# Combine all the datasets above\n",
    "stop= shuffle(pd.concat([pos_train, neg_train,pos_val,neg_val,pos_test, neg_test]))\n",
    "stop.head(12)"
   ]
  },
  {
   "cell_type": "code",
   "execution_count": 115,
   "metadata": {},
   "outputs": [
    {
     "name": "stderr",
     "output_type": "stream",
     "text": [
      "/opt/conda/lib/python3.6/site-packages/sklearn/naive_bayes.py:480: UserWarning: alpha too small will result in numeric errors, setting alpha = 1.0e-10\n",
      "  'setting alpha = %.1e' % _ALPHA_MIN)\n"
     ]
    },
    {
     "data": {
      "text/plain": [
       "Text(0, 0.5, 'accurate_rate')"
      ]
     },
     "execution_count": 115,
     "metadata": {},
     "output_type": "execute_result"
    },
    {
     "data": {
      "image/png": "[encoded data removed]",
      "text/plain": [
       "<Figure size 720x432 with 1 Axes>"
      ]
     },
     "metadata": {},
     "output_type": "display_data"
    }
   ],
   "source": [
    "# Tune the parameter of alpha\n",
    "\n",
    "#Unigram LM without stopword dataset\n",
    "vectorizer = CountVectorizer(ngram_range=(1, 1))\n",
    "text_counts = vectorizer.fit_transform(nostop[\"Clean_text\"])\n",
    "X=text_counts\n",
    "y=nostop[\"Sentiment\"]\n",
    "\n",
    "# Split the dataset to train, validate, and test subsets\n",
    "X_train, X_test, y_train, y_test = train_test_split(X, y, test_size=0.1, random_state=1)\n",
    "X_train, X_val, y_train, y_val = train_test_split(X_train, y_train, test_size=0.1, random_state=1)\n",
    "\n",
    "accurate_rate = []\n",
    "for i in np.arange(0.0, 3.0, 0.3):\n",
    "    clf = MultinomialNB(alpha=i).fit(X_train, y_train)\n",
    "    predicted= clf.predict(X_val)\n",
    "    # print(\"MultinomialNB Accuracy:\",metrics.accuracy_score(y_nostop_val, predicted))\n",
    "    accurate_rate.append(metrics.accuracy_score(y_val, predicted))\n",
    "\n",
    "\n",
    "plt.figure(figsize=(10,6))\n",
    "plt.plot(np.arange(0.0, 3.0, 0.3),accurate_rate, color='blue',linestyle='dashed',marker='o', markerfacecolor='red', markersize='10')\n",
    "plt.xlabel('Val of alpha')\n",
    "plt.ylabel('accurate_rate')"
   ]
  },
  {
   "cell_type": "code",
   "execution_count": 111,
   "metadata": {},
   "outputs": [
    {
     "name": "stdout",
     "output_type": "stream",
     "text": [
      "Unigram LM with no stopword dataset MultinomialNB Accuracy: 0.8084523943450707\n"
     ]
    }
   ],
   "source": [
    "# Unigram LM without stopword dataset MultinomialNB Accuracy\n",
    "vectorizer = CountVectorizer(ngram_range=(1, 1))\n",
    "text_counts = vectorizer.fit_transform(nostop[\"Clean_text\"])\n",
    "X=text_counts\n",
    "y=nostop[\"Sentiment\"]\n",
    "    # Split the dataset to train, validate, and test subsets\n",
    "X_train, X_test, y_train, y_test = train_test_split(X, y, test_size=0.1, random_state=1)\n",
    "X_train, X_val, y_train, y_val = train_test_split(X_train, y_train, test_size=0.1, random_state=1)\n",
    "\n",
    "    # Model Generation Using Multinomial Naive Bayes\n",
    "clf = MultinomialNB(alpha = 0.9).fit(X_train, y_train)\n",
    "predicted= clf.predict(X_test)\n",
    "    #Import scikit-learn metrics module for accuracy calculation\n",
    "score=metrics.accuracy_score(y_test, predicted) \n",
    "print(\"Unigram LM without stopword dataset MultinomialNB Accuracy:\",score)\n"
   ]
  },
  {
   "cell_type": "code",
   "execution_count": 112,
   "metadata": {},
   "outputs": [
    {
     "name": "stdout",
     "output_type": "stream",
     "text": [
      "Bigram LM without stopword dataset MultinomialNB Accuracy: 0.8236022049724379\n"
     ]
    }
   ],
   "source": [
    "# Bigram LM without stopword dataset MultinomialNB Accuracy\n",
    "vectorizer = CountVectorizer(ngram_range=(2, 2))\n",
    "text_counts = vectorizer.fit_transform(nostop[\"Clean_text\"])\n",
    "X=text_counts\n",
    "y=nostop[\"Sentiment\"]\n",
    "    # Split the dataset to train, validate, and test subsets\n",
    "X_train, X_test, y_train, y_test = train_test_split(X, y, test_size=0.1, random_state=1)\n",
    "X_train, X_val, y_train, y_val = train_test_split(X_train, y_train, test_size=0.1, random_state=1)\n",
    "\n",
    "    # Model Generation Using Multinomial Naive Bayes\n",
    "clf = MultinomialNB(alpha = 0.9).fit(X_train, y_train)\n",
    "predicted= clf.predict(X_test)\n",
    "    #Import scikit-learn metrics module for accuracy calculation\n",
    "score=metrics.accuracy_score(y_test, predicted) \n",
    "print(\"Bigram LM without stopword dataset MultinomialNB Accuracy:\",score)\n"
   ]
  },
  {
   "cell_type": "code",
   "execution_count": 113,
   "metadata": {},
   "outputs": [
    {
     "name": "stdout",
     "output_type": "stream",
     "text": [
      "Unigram and Bigram LM without stopword dataset MultinomialNB Accuracy: 0.8329395882551468\n"
     ]
    }
   ],
   "source": [
    "# Unigram and Bigram LM without stopword dataset MultinomialNB Accuracy\n",
    "vectorizer = CountVectorizer(ngram_range=(1, 2))\n",
    "text_counts = vectorizer.fit_transform(nostop[\"Clean_text\"])\n",
    "X=text_counts\n",
    "y=nostop[\"Sentiment\"]\n",
    "    # Split the dataset to train, validate, and test subsets\n",
    "X_train, X_test, y_train, y_test = train_test_split(X, y, test_size=0.1, random_state=1)\n",
    "X_train, X_val, y_train, y_val = train_test_split(X_train, y_train, test_size=0.1, random_state=1)\n",
    "\n",
    "    # Model Generation Using Multinomial Naive Bayes\n",
    "clf = MultinomialNB(alpha = 0.9).fit(X_train, y_train)\n",
    "predicted= clf.predict(X_test)\n",
    "    #Import scikit-learn metrics module for accuracy calculation\n",
    "score=metrics.accuracy_score(y_test, predicted) \n",
    "print(\"Unigram and Bigram LM without stopword dataset MultinomialNB Accuracy:\",score)\n"
   ]
  },
  {
   "cell_type": "code",
   "execution_count": 116,
   "metadata": {},
   "outputs": [
    {
     "name": "stdout",
     "output_type": "stream",
     "text": [
      "Unigram LM with stopword dataset MultinomialNB Accuracy: 0.8048524393445082\n"
     ]
    }
   ],
   "source": [
    "# Unigram LM with stopword dataset MultinomialNB Accuracy\n",
    "vectorizer = CountVectorizer(ngram_range=(1, 1))\n",
    "text_counts = vectorizer.fit_transform(stop[\"Clean_text\"])\n",
    "X=text_counts\n",
    "y=stop[\"Sentiment\"]\n",
    "    # Split the dataset to train, validate, and test subsets\n",
    "X_train, X_test, y_train, y_test = train_test_split(X, y, test_size=0.1, random_state=1)\n",
    "X_train, X_val, y_train, y_val = train_test_split(X_train, y_train, test_size=0.1, random_state=1)\n",
    "\n",
    "    # Model Generation Using Multinomial Naive Bayes\n",
    "clf = MultinomialNB(alpha = 0.9).fit(X_train, y_train)\n",
    "predicted= clf.predict(X_test)\n",
    "    #Import scikit-learn metrics module for accuracy calculation\n",
    "score=metrics.accuracy_score(y_test, predicted) \n",
    "print(\"Unigram LM with stopword dataset MultinomialNB Accuracy:\",score)"
   ]
  },
  {
   "cell_type": "code",
   "execution_count": 117,
   "metadata": {},
   "outputs": [
    {
     "name": "stdout",
     "output_type": "stream",
     "text": [
      "Bigram LM with stopword dataset MultinomialNB Accuracy: 0.7889526380920239\n"
     ]
    }
   ],
   "source": [
    "# Bigram LM with stopword dataset MultinomialNB Accuracy\n",
    "vectorizer = CountVectorizer(ngram_range=(2, 2))\n",
    "text_counts = vectorizer.fit_transform(stop[\"Clean_text\"])\n",
    "X=text_counts\n",
    "y=stop[\"Sentiment\"]\n",
    "    # Split the dataset to train, validate, and test subsets\n",
    "X_train, X_test, y_train, y_test = train_test_split(X, y, test_size=0.1, random_state=1)\n",
    "X_train, X_val, y_train, y_val = train_test_split(X_train, y_train, test_size=0.1, random_state=1)\n",
    "\n",
    "    # Model Generation Using Multinomial Naive Bayes\n",
    "clf = MultinomialNB(alpha = 0.9).fit(X_train, y_train)\n",
    "predicted= clf.predict(X_test)\n",
    "    #Import scikit-learn metrics module for accuracy calculation\n",
    "score=metrics.accuracy_score(y_test, predicted) \n",
    "print(\"Bigram LM with stopword dataset MultinomialNB Accuracy:\",score)\n"
   ]
  },
  {
   "cell_type": "code",
   "execution_count": 118,
   "metadata": {},
   "outputs": [
    {
     "name": "stdout",
     "output_type": "stream",
     "text": [
      "Unigram and Bigram LM with stopword dataset MultinomialNB Accuracy: 0.8235272059099261\n"
     ]
    }
   ],
   "source": [
    "# Unigram and Bigram LM with stopword dataset MultinomialNB Accuracy\n",
    "vectorizer = CountVectorizer(ngram_range=(1, 2))\n",
    "text_counts = vectorizer.fit_transform(stop[\"Clean_text\"])\n",
    "X=text_counts\n",
    "y=stop[\"Sentiment\"]\n",
    "    # Split the dataset to train, validate, and test subsets\n",
    "X_train, X_test, y_train, y_test = train_test_split(X, y, test_size=0.1, random_state=1)\n",
    "X_train, X_val, y_train, y_val = train_test_split(X_train, y_train, test_size=0.1, random_state=1)\n",
    "\n",
    "    # Model Generation Using Multinomial Naive Bayes\n",
    "clf = MultinomialNB(alpha = 0.9).fit(X_train, y_train)\n",
    "predicted= clf.predict(X_test)\n",
    "    #Import scikit-learn metrics module for accuracy calculation\n",
    "score=metrics.accuracy_score(y_test, predicted) \n",
    "print(\"Unigram and Bigram LM with stopword dataset MultinomialNB Accuracy:\",score)\n"
   ]
  },
  {
   "cell_type": "code",
   "execution_count": null,
   "metadata": {},
   "outputs": [],
   "source": []
  }
 ],
 "metadata": {
  "kernelspec": {
   "display_name": "Python 3",
   "language": "python",
   "name": "python3"
  },
  "language_info": {
   "codemirror_mode": {
    "name": "ipython",
    "version": 3
   },
   "file_extension": ".py",
   "mimetype": "text/x-python",
   "name": "python",
   "nbconvert_exporter": "python",
   "pygments_lexer": "ipython3",
   "version": "3.6.5"
  }
 },
 "nbformat": 4,
 "nbformat_minor": 1
}
